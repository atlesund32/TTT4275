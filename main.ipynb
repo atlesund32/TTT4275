{
 "cells": [
  {
   "cell_type": "markdown",
   "metadata": {},
   "source": [
    "**TASK 1**"
   ]
  },
  {
   "cell_type": "markdown",
   "metadata": {},
   "source": [
    "Behandling av Data - Knut fikser"
   ]
  },
  {
   "cell_type": "code",
   "execution_count": 3,
   "metadata": {},
   "outputs": [],
   "source": [
    "import pandas as pd\n"
   ]
  },
  {
   "cell_type": "markdown",
   "metadata": {},
   "source": [
    "*Reference specific covariance matrix*\n",
    "- Describes the spread of the data belonging to a reference (class).\n",
    "- num_features x num_features which tells us:\n",
    "    - how much each feature varies\n",
    "    - how much the features covaries \n",
    "\n",
    "Can use Mahalanobis-distance to calculate how close a new data point is to that reference.\n",
    "\n",
    "\n",
    "reference vector (or template) = a point in the feature space we compare new feature vectors (inputs) against to classify them.\n",
    "\n",
    "The paper uses clustering to group training samples within each class, and then selects:\n",
    "- One or more reference vectors per cluster, typically the cluster mean and its covariance\n",
    "\n",
    "* Using all training points is expensive and may overfit\n",
    "* You don’t need that many points to represent a class if you choose well\n",
    "* Using a small, well-chosen set of references can work just as well — or better"
   ]
  },
  {
   "cell_type": "code",
   "execution_count": null,
   "metadata": {},
   "outputs": [],
   "source": []
  }
 ],
 "metadata": {
  "kernelspec": {
   "display_name": "base",
   "language": "python",
   "name": "python3"
  },
  "language_info": {
   "codemirror_mode": {
    "name": "ipython",
    "version": 3
   },
   "file_extension": ".py",
   "mimetype": "text/x-python",
   "name": "python",
   "nbconvert_exporter": "python",
   "pygments_lexer": "ipython3",
   "version": "3.9.12"
  }
 },
 "nbformat": 4,
 "nbformat_minor": 2
}
