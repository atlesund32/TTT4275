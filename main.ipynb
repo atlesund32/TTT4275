{
 "cells": [
  {
   "cell_type": "markdown",
   "metadata": {},
   "source": [
    "**TASK 1**"
   ]
  },
  {
   "cell_type": "code",
   "execution_count": null,
   "metadata": {},
   "outputs": [
    {
     "name": "stdout",
     "output_type": "stream",
     "text": [
      "   Track ID           File  zero_cross_rate_mean  zero_cross_rate_std  \\\n",
      "0         0  pop_00072.wav              0.131656             0.051042   \n",
      "1         1  pop_00066.wav              0.099747             0.054401   \n",
      "2         2  pop_00099.wav              0.096015             0.060390   \n",
      "3         3  pop_00098.wav              0.183106             0.088115   \n",
      "4         5  pop_00073.wav              0.161897             0.084610   \n",
      "\n",
      "   rmse_mean  rmse_var  spectral_centroid_mean  spectral_centroid_var  \\\n",
      "0   0.234452  0.069776             2569.255823             634.389892   \n",
      "1   0.243250  0.081652             2844.070408             953.593356   \n",
      "2   0.138146  0.050329             2765.648135             916.797020   \n",
      "3   0.212939  0.075027             3634.106564             820.191199   \n",
      "4   0.259807  0.096101             3671.260489             937.024680   \n",
      "\n",
      "   spectral_bandwidth_mean  spectral_bandwidth_var  ...  mfcc_6_std  \\\n",
      "0              2559.529362              417.736160  ...    9.436494   \n",
      "1              3219.148148              436.932356  ...   12.191261   \n",
      "2              3222.697319              417.432500  ...   14.622502   \n",
      "3              3134.284752              312.987674  ...   12.229629   \n",
      "4              3295.553789              333.396129  ...   11.043411   \n",
      "\n",
      "   mfcc_7_std  mfcc_8_std  mfcc_9_std  mfcc_10_std  mfcc_11_std  mfcc_12_std  \\\n",
      "0    9.818374    7.884112    7.231014     8.026523     7.281337     6.818096   \n",
      "1   11.272436    9.856543   10.003786    10.398938     8.929573     9.131061   \n",
      "2   11.424296   13.402919    9.898433     9.893081    10.140719     8.330488   \n",
      "3   12.219382   11.645808   11.426618     9.012418    10.227400     9.494127   \n",
      "4    9.928480    8.211914    8.241311     9.336305     8.607124     7.269691   \n",
      "\n",
      "   GenreID  Genre   Type  \n",
      "0        0    pop  Train  \n",
      "1        0    pop  Train  \n",
      "2        0    pop  Train  \n",
      "3        0    pop  Train  \n",
      "4        0    pop  Train  \n",
      "\n",
      "[5 rows x 68 columns]\n"
     ]
    }
   ],
   "source": [
    "import pandas as pd\n",
    "\n",
    "#df = pd.read_csv(\"data/GenreClassData_30s.txt\", sep='\\t')\n",
    "#print(df.head())\n"
   ]
  },
  {
   "cell_type": "code",
   "execution_count": null,
   "metadata": {},
   "outputs": [],
   "source": []
  }
 ],
 "metadata": {
  "kernelspec": {
   "display_name": "base",
   "language": "python",
   "name": "python3"
  },
  "language_info": {
   "codemirror_mode": {
    "name": "ipython",
    "version": 3
   },
   "file_extension": ".py",
   "mimetype": "text/x-python",
   "name": "python",
   "nbconvert_exporter": "python",
   "pygments_lexer": "ipython3",
   "version": "3.9.12"
  }
 },
 "nbformat": 4,
 "nbformat_minor": 2
}
