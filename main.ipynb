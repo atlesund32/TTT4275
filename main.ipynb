{
 "cells": [
  {
   "cell_type": "markdown",
   "metadata": {},
   "source": [
    "**TASK 1**"
   ]
  },
  {
   "cell_type": "markdown",
   "metadata": {},
   "source": [
    "Behandling av Data - Knut fikser"
   ]
  },
  {
   "cell_type": "code",
   "execution_count": null,
   "metadata": {},
   "outputs": [],
   "source": [
    "import pandas as pd\n"
   ]
  },
  {
   "cell_type": "markdown",
   "metadata": {},
   "source": [
    "*Reference specific covariance matrix*\n",
    "- Describes the spread of the data belonging to a reference (class).\n",
    "- num_features x num_features which tells us:\n",
    "    - how much each feature varies\n",
    "    - how much the features covaries \n",
    "\n",
    "Can use Mahalanobis-distance to calculate how close a new data point is to that reference.\n",
    "\n",
    "\n",
    "reference vector (or template) = a point in the feature space we compare new feature vectors (inputs) against to classify them.\n",
    "\n",
    "The paper uses clustering to group training samples within each class, and then selects:\n",
    "- One or more reference vectors per cluster, typically the cluster mean and its covariance\n",
    "\n",
    "* Using all training points is expensive and may overfit\n",
    "* You don’t need that many points to represent a class if you choose well\n",
    "* Using a small, well-chosen set of references can work just as well — or better"
   ]
  },
  {
   "cell_type": "code",
   "execution_count": null,
   "metadata": {},
   "outputs": [],
   "source": [
    "features = ['spectral_rolloff_mean', 'mfcc_1_mean', 'spectral_centroid_mean', 'tempo']\n",
    "\n",
    "# print(get_feature_for_all_id(features[0],df)[2])\n",
    "\n",
    "# plt.scatter(df[features[3]],df[features[2]],color='blue',alpha=0.5)\n",
    "# plt.show()\n",
    "\n",
    "\n",
    "\n",
    "\n",
    "def eucledian_distance(track_1, track_2):\n",
    "    distance = 0\n",
    "    for i in range(len(track_1)):\n",
    "       distance += (track_1[i]-track_2)**2\n",
    "\n",
    "    return np.sqrt(distance)\n",
    "\n",
    "def get_feature_matrix(features):\n",
    "    \n",
    "    for i in range(len(features)):\n",
    "\n",
    "    \n",
    "\n",
    "\n",
    "\n"
   ]
  }
 ],
 "metadata": {
  "kernelspec": {
   "display_name": "base",
   "language": "python",
   "name": "python3"
  },
  "language_info": {
   "codemirror_mode": {
    "name": "ipython",
    "version": 3
   },
   "file_extension": ".py",
   "mimetype": "text/x-python",
   "name": "python",
   "nbconvert_exporter": "python",
   "pygments_lexer": "ipython3",
   "version": "3.9.12"
  }
 },
 "nbformat": 4,
 "nbformat_minor": 2
}
