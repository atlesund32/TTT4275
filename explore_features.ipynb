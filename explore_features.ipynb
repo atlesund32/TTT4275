{
 "cells": [
  {
   "cell_type": "markdown",
   "metadata": {},
   "source": [
    "## IDEA\n",
    "\n",
    "\n",
    "1) Analyze one feature at the time to see if it can be used to discriminate one or more classes from the rest\n",
    "2) Analyze the feature vector as a whole – see if there is any correlation between the vector elements"
   ]
  },
  {
   "cell_type": "code",
   "execution_count": null,
   "metadata": {},
   "outputs": [],
   "source": [
    "import pandas as pd\n",
    "import matplotlib.pyplot as plt\n",
    "from collections import Counter\n",
    "\n",
    "data = pd.read_csv('data/GenreClassData_30s.txt', sep='\\t')\n",
    "\n",
    "# Split the data into training and testing sets\n",
    "train = data[data['Type'] == 'Train']\n",
    "test = data[data['Type'] == 'Test']\n",
    "\n",
    "# Define the features and targets\n",
    "features = ['spectral_rolloff_mean', 'mfcc_1_mean', 'spectral_centroid_mean', 'tempo']\n",
    "\n",
    "targets = ['Genre']\n",
    "\n",
    "\n",
    "# feature data..\n",
    "X_train = train[features]\n",
    "# genre data\n",
    "y_train = train[targets]\n",
    "\n",
    "X_test, y_test = test[features], test[targets]"
   ]
  },
  {
   "cell_type": "code",
   "execution_count": null,
   "metadata": {},
   "outputs": [],
   "source": [
    "\n",
    "features_to_check = ['spectral_rolloff_mean', 'spectral_centroid_mean', 'tempo']\n",
    "max_values = train[features_to_check].max()\n",
    "min_values = train[features_to_check].min()\n",
    "\n",
    "# Display the results\n",
    "print(\"Max values:\")\n",
    "print(max_values)\n",
    "print(\"\\nMin values:\")\n",
    "print(min_values)"
   ]
  },
  {
   "cell_type": "code",
   "execution_count": null,
   "metadata": {},
   "outputs": [],
   "source": [
    "plt.close('all') #Clear any existing figures\n",
    "\n",
    "data_dict = {\n",
    "    'hiphop': data[data['Genre'] == 'hiphop'],\n",
    "    'rock': data[data['Genre'] == 'rock'],\n",
    "    'jazz': data[data['Genre'] == 'jazz'],\n",
    "    'classical': data[data['Genre'] == 'classical'],\n",
    "    'reggae': data[data['Genre'] == 'reggae'],\n",
    "    'blues': data[data['Genre'] == 'blues'],\n",
    "    'disco': data[data['Genre'] == 'disco'],\n",
    "    'metal': data[data['Genre'] == 'metal'],\n",
    "    'country': data[data['Genre'] == 'country'],\n",
    "    'pop': data[data['Genre'] == 'pop']\n",
    "}\n",
    "\n",
    "\n",
    "data_dict_prev = {\n",
    "   \n",
    "    'classical': data[data['Genre'] == 'classical'],\n",
    "    'disco': data[data['Genre'] == 'disco'],\n",
    "    'metal': data[data['Genre'] == 'metal'],\n",
    "    'pop': data[data['Genre'] == 'pop']\n",
    "}\n",
    "\n",
    "# for key, value in dict.items():\n",
    "\n",
    "for feature in features:\n",
    "    fig, axes = plt.subplots(len(data_dict),1, figsize=(8,len(data_dict)*3), sharex=True )\n",
    "    for ax, (genre, data)  in zip(axes, data_dict.items()):\n",
    "        ax.hist(data[feature], bins=30, label=feature)\n",
    "        ax.legend()\n",
    "        ax.title.set_text(genre)\n",
    "\n",
    "plt.tight_layout()\n",
    "plt.show()"
   ]
  }
 ],
 "metadata": {
  "kernelspec": {
   "display_name": "base",
   "language": "python",
   "name": "python3"
  },
  "language_info": {
   "codemirror_mode": {
    "name": "ipython",
    "version": 3
   },
   "file_extension": ".py",
   "mimetype": "text/x-python",
   "name": "python",
   "nbconvert_exporter": "python",
   "pygments_lexer": "ipython3",
   "version": "3.9.12"
  }
 },
 "nbformat": 4,
 "nbformat_minor": 2
}
