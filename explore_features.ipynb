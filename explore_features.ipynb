{
 "cells": [
  {
   "cell_type": "markdown",
   "metadata": {},
   "source": [
    "## IDEA\n",
    "\n",
    "\n",
    "1) Analyze one feature at the time to see if it can be used to discriminate one or more classes from the rest\n",
    "2) Analyze the feature vector as a whole – see if there is any correlation between the vector elements"
   ]
  },
  {
   "cell_type": "code",
   "execution_count": null,
   "metadata": {},
   "outputs": [],
   "source": [
    "import pandas as pd\n",
    "import matplotlib.pyplot as plt\n",
    "from collections import Counter\n",
    "\n",
    "data = pd.read_csv('data/GenreClassData_30s.txt', sep='\\t')\n",
    "\n",
    "# Split the data into training and testing sets\n",
    "train = data[data['Type'] == 'Train']\n",
    "test = data[data['Type'] == 'Test']\n",
    "\n",
    "# Define the features and targets\n",
    "#features = ['spectral_rolloff_mean', 'mfcc_1_mean', 'spectral_centroid_mean', 'tempo']\n",
    "features = [\n",
    "    'zero_cross_rate_mean', 'zero_cross_rate_std', 'rmse_mean', 'rmse_var',\n",
    "    'spectral_centroid_mean', 'spectral_centroid_var', 'spectral_bandwidth_mean', 'spectral_bandwidth_var',\n",
    "    'spectral_rolloff_mean', 'spectral_rolloff_var', 'spectral_contrast_mean', 'spectral_contrast_var',\n",
    "    'spectral_flatness_mean', 'spectral_flatness_var', 'chroma_stft_1_mean', 'chroma_stft_2_mean',\n",
    "    'chroma_stft_3_mean', 'chroma_stft_4_mean', 'chroma_stft_5_mean', 'chroma_stft_6_mean',\n",
    "    'chroma_stft_7_mean', 'chroma_stft_8_mean', 'chroma_stft_9_mean', 'chroma_stft_10_mean',\n",
    "    'chroma_stft_11_mean', 'chroma_stft_12_mean', 'chroma_stft_1_std', 'chroma_stft_2_std',\n",
    "    'chroma_stft_3_std', 'chroma_stft_4_std', 'chroma_stft_5_std', 'chroma_stft_6_std',\n",
    "    'chroma_stft_7_std', 'chroma_stft_8_std', 'chroma_stft_9_std', 'chroma_stft_10_std',\n",
    "    'chroma_stft_11_std', 'chroma_stft_12_std', 'tempo', 'mfcc_1_mean', 'mfcc_2_mean',\n",
    "    'mfcc_3_mean', 'mfcc_4_mean', 'mfcc_5_mean', 'mfcc_6_mean', 'mfcc_7_mean', 'mfcc_8_mean',\n",
    "    'mfcc_9_mean', 'mfcc_10_mean', 'mfcc_11_mean', 'mfcc_12_mean', 'mfcc_1_std', 'mfcc_2_std',\n",
    "    'mfcc_3_std', 'mfcc_4_std', 'mfcc_5_std', 'mfcc_6_std', 'mfcc_7_std', 'mfcc_8_std',\n",
    "    'mfcc_9_std', 'mfcc_10_std', 'mfcc_11_std', 'mfcc_12_std'\n",
    "]\n",
    "\n",
    "targets = ['Genre']\n",
    "\n",
    "\n",
    "# feature data\n",
    "X_train = train[features]\n",
    "# genre data\n",
    "y_train = train[targets]\n",
    "\n",
    "X_test, y_test = test[features], test[targets]"
   ]
  },
  {
   "cell_type": "code",
   "execution_count": null,
   "metadata": {},
   "outputs": [],
   "source": [
    "plt.close('all') #Clear any existing figures\n",
    "\n",
    "data_dict = {\n",
    "    'hiphop': data[data['Genre'] == 'hiphop'],\n",
    "    'rock': data[data['Genre'] == 'rock'],\n",
    "    'jazz': data[data['Genre'] == 'jazz'],\n",
    "    'classical': data[data['Genre'] == 'classical'],\n",
    "    'reggae': data[data['Genre'] == 'reggae'],\n",
    "    'blues': data[data['Genre'] == 'blues'],\n",
    "    'disco': data[data['Genre'] == 'disco'],\n",
    "    'metal': data[data['Genre'] == 'metal'],\n",
    "    'country': data[data['Genre'] == 'country'],\n",
    "    'pop': data[data['Genre'] == 'pop']\n",
    "}\n",
    "\n",
    "\n",
    "data_dict_prev = {\n",
    "   \n",
    "    'classical': data[data['Genre'] == 'classical'],\n",
    "    'disco': data[data['Genre'] == 'disco'],\n",
    "    'metal': data[data['Genre'] == 'metal'],\n",
    "    'pop': data[data['Genre'] == 'pop']\n",
    "}\n",
    "\n",
    "# for key, value in dict.items():\n",
    "\n",
    "for feature in features:\n",
    "    fig, axes = plt.subplots(len(data_dict),1, figsize=(8,len(data_dict)*3), sharex=True )\n",
    "    for ax, (genre, data)  in zip(axes, data_dict.items()):\n",
    "        ax.hist(data[feature], bins=30, label=feature)\n",
    "        ax.legend()\n",
    "        ax.title.set_text(genre)\n",
    "\n",
    "plt.tight_layout()\n",
    "plt.show()"
   ]
  },
  {
   "cell_type": "code",
   "execution_count": null,
   "metadata": {},
   "outputs": [],
   "source": [
    "fig, axes = plt.subplots(2,2, figsize=(14,8))\n",
    "for ax, feature in zip(axes.flat, features):\n",
    "\n",
    "    ax.hist(train[feature], bins=30, alpha=0.5, label='Train', color='r')\n",
    "    ax.hist(test[feature], bins=30, alpha=0.5, label='Test', color='b')\n",
    "    ax.legend()\n",
    "    ax.title.set_text(feature)"
   ]
  },
  {
   "cell_type": "code",
   "execution_count": null,
   "metadata": {},
   "outputs": [],
   "source": [
    "pop_data = data[data['Genre'] == 'pop'] \n",
    "disco_data = data[data['Genre'] == 'disco'] \n",
    "metal_data = data[data['Genre'] == 'metal'] \n",
    "classical_data = data[data['Genre'] == 'classical']\n",
    "\n",
    "\n",
    "fig, axes = plt.subplots(2,2, figsize=(14,8)) \n",
    "for ax, feature in zip(axes.flat, features):\n",
    "    ax.hist(data[feature], bins=30, alpha=0.5, label='Pop', color='r')\n",
    "    ax.hist(disco_data[feature], bins=30, alpha=0.5, label='Disco', color='b')\n",
    "    ax.hist(metal_data[feature], bins=30, alpha=0.5, label='Metal', color='g')\n",
    "    ax.hist(classical_data[feature], bins=30, alpha=0.5, label='Classical', color='y')\n",
    "    ax.legend()\n",
    "    ax.title.set_text(feature)"
   ]
  },
  {
   "cell_type": "markdown",
   "metadata": {},
   "source": [
    "To create a title or section in markdown, use the `#` symbol followed by a space and the title text. The number of `#` symbols determines the heading level.\n",
    "\n",
    "```markdown\n",
    "# Title for the Section\n",
    "\n",
    "## Subsection Title\n",
    "\n",
    "### Sub-subsection Title\n",
    "```\n",
    "\n",
    "For example:\n",
    "\n",
    "```markdown\n",
    "# Data Analysis\n",
    "\n",
    "## Feature Distribution\n",
    "\n",
    "### Tempo Analysis\n",
    "```"
   ]
  },
  {
   "cell_type": "markdown",
   "metadata": {},
   "source": [
    "# The code below separates everything, the features and the genre"
   ]
  },
  {
   "cell_type": "code",
   "execution_count": null,
   "metadata": {},
   "outputs": [],
   "source": [
    "'''#pop, disco, metal and classical\n",
    "pop_data = data[data['Genre'] == 'pop']\n",
    "disco_data = data[data['Genre'] == 'disco']\n",
    "metal_data = data[data['Genre'] == 'metal']\n",
    "classical_data = data[data['Genre'] == 'classical']\n",
    "\n",
    "# List of genres and their corresponding data\n",
    "genres = ['Pop', 'Disco', 'Metal', 'Classical']\n",
    "genre_data = [pop_data, disco_data, metal_data, classical_data]\n",
    "colors = ['r', 'b', 'g', 'y']\n",
    "\n",
    "# Create a 4x4 grid of subplots\n",
    "fig, axes = plt.subplots(4, 4, figsize=(16, 16))\n",
    "\n",
    "# Loop through each feature and genre to create individual plots\n",
    "for i, feature in enumerate(features):\n",
    "    for j, (genre, data, color) in enumerate(zip(genres, genre_data, colors)):\n",
    "        ax = axes[i, j]\n",
    "        ax.hist(data[feature], bins=30, alpha=0.5, label=genre, color=color)\n",
    "        ax.legend()\n",
    "        ax.title.set_text(f\"{feature} - {genre}\")\n",
    "\n",
    "# Adjust layout to prevent overlap\n",
    "plt.tight_layout()\n",
    "plt.show()'''"
   ]
  },
  {
   "cell_type": "code",
   "execution_count": null,
   "metadata": {},
   "outputs": [],
   "source": []
  }
 ],
 "metadata": {
  "kernelspec": {
   "display_name": "base",
   "language": "python",
   "name": "python3"
  },
  "language_info": {
   "codemirror_mode": {
    "name": "ipython",
    "version": 3
   },
   "file_extension": ".py",
   "mimetype": "text/x-python",
   "name": "python",
   "nbconvert_exporter": "python",
   "pygments_lexer": "ipython3",
   "version": "3.9.12"
  }
 },
 "nbformat": 4,
 "nbformat_minor": 2
}
